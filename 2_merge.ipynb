{
 "cells": [
  {
   "cell_type": "code",
   "execution_count": 547,
   "metadata": {},
   "outputs": [],
   "source": [
    "import pandas as pd\n",
    "import numpy as np\n",
    "\n",
    "from collections import Counter"
   ]
  },
  {
   "cell_type": "code",
   "execution_count": 548,
   "metadata": {},
   "outputs": [],
   "source": [
    "# создаёт словарь из списка кортежей, который, в свою очередь, получен из счётчика\n",
    "\n",
    "def counter_list_to_dict(list_):\n",
    "    dict_ = {}\n",
    "    for el in list_:\n",
    "        dict_[el[0]] = el[1]\n",
    "    return dict_"
   ]
  },
  {
   "cell_type": "markdown",
   "metadata": {},
   "source": [
    "Подгружаем данные:"
   ]
  },
  {
   "cell_type": "code",
   "execution_count": 549,
   "metadata": {},
   "outputs": [],
   "source": [
    "green_user_stats = pd.read_csv('green_user_stats.csv')\n",
    "lesson_stats = pd.read_csv('lesson_stats.csv')\n",
    "statistics_of_the_other_users = pd.read_csv('statistics_of_other_users.csv', sep=';', encoding='cp1251')\n",
    "user_details = pd.read_csv('user_details.csv')"
   ]
  },
  {
   "cell_type": "code",
   "execution_count": 550,
   "metadata": {},
   "outputs": [],
   "source": [
    "users = pd.read_csv('users.csv')"
   ]
  },
  {
   "cell_type": "code",
   "execution_count": 551,
   "metadata": {},
   "outputs": [],
   "source": [
    "users.loc[users['EMAIL ADDRESS'] == 'lida.malygina@gmail.com', 'USERNAME'] = 'lida.malygina@gmail.com'\n",
    "user_details.loc[user_details['Пользователь'] == 'lida.malygina@GMAIL.COM', 'Пользователь'] = 'lida.malygina@gmail.com'\n",
    "lesson_stats.loc[lesson_stats['Пользователь'] == 'lida.malygina@GMAIL.COM', 'Пользователь'] = 'lida.malygina@gmail.com'"
   ]
  },
  {
   "cell_type": "markdown",
   "metadata": {},
   "source": [
    "Посмотрим на данные поближе:\n",
    "\n",
    "### Green_user_stats:"
   ]
  },
  {
   "cell_type": "code",
   "execution_count": 552,
   "metadata": {},
   "outputs": [
    {
     "data": {
      "text/html": [
       "<div>\n",
       "<style scoped>\n",
       "    .dataframe tbody tr th:only-of-type {\n",
       "        vertical-align: middle;\n",
       "    }\n",
       "\n",
       "    .dataframe tbody tr th {\n",
       "        vertical-align: top;\n",
       "    }\n",
       "\n",
       "    .dataframe thead th {\n",
       "        text-align: right;\n",
       "    }\n",
       "</style>\n",
       "<table border=\"1\" class=\"dataframe\">\n",
       "  <thead>\n",
       "    <tr style=\"text-align: right;\">\n",
       "      <th></th>\n",
       "      <th>Пользователь</th>\n",
       "      <th>Регион Города</th>\n",
       "      <th>Город Пользователя</th>\n",
       "      <th>Количество Мусора</th>\n",
       "      <th>Тип Мусора</th>\n",
       "      <th>Искатель</th>\n",
       "      <th>Количество Баллов</th>\n",
       "      <th>Дата Завершения</th>\n",
       "    </tr>\n",
       "  </thead>\n",
       "  <tbody>\n",
       "    <tr>\n",
       "      <th>0</th>\n",
       "      <td>test@test.ru</td>\n",
       "      <td>Москва</td>\n",
       "      <td>Армавир</td>\n",
       "      <td>8-12 мешков</td>\n",
       "      <td>Банки</td>\n",
       "      <td>вапрвыапвапвап</td>\n",
       "      <td>10</td>\n",
       "      <td>2024-05-28 18:57:58.259380+00:00</td>\n",
       "    </tr>\n",
       "    <tr>\n",
       "      <th>1</th>\n",
       "      <td>e.mushinskiy@soccard.ru</td>\n",
       "      <td>Москва</td>\n",
       "      <td>Москва</td>\n",
       "      <td>8-12 мешков</td>\n",
       "      <td>Окурки</td>\n",
       "      <td>ТЕСТ</td>\n",
       "      <td>10</td>\n",
       "      <td>2024-05-30 11:39:59.946088+00:00</td>\n",
       "    </tr>\n",
       "  </tbody>\n",
       "</table>\n",
       "</div>"
      ],
      "text/plain": [
       "              Пользователь Регион Города Город Пользователя Количество Мусора  \\\n",
       "0             test@test.ru        Москва            Армавир       8-12 мешков   \n",
       "1  e.mushinskiy@soccard.ru        Москва             Москва       8-12 мешков   \n",
       "\n",
       "  Тип Мусора        Искатель  Количество Баллов  \\\n",
       "0      Банки  вапрвыапвапвап                 10   \n",
       "1     Окурки            ТЕСТ                 10   \n",
       "\n",
       "                    Дата Завершения  \n",
       "0  2024-05-28 18:57:58.259380+00:00  \n",
       "1  2024-05-30 11:39:59.946088+00:00  "
      ]
     },
     "execution_count": 552,
     "metadata": {},
     "output_type": "execute_result"
    }
   ],
   "source": [
    "green_user_stats.head(2)"
   ]
  },
  {
   "cell_type": "code",
   "execution_count": 553,
   "metadata": {},
   "outputs": [
    {
     "name": "stdout",
     "output_type": "stream",
     "text": [
      "<class 'pandas.core.frame.DataFrame'>\n",
      "RangeIndex: 46 entries, 0 to 45\n",
      "Data columns (total 8 columns):\n",
      " #   Column              Non-Null Count  Dtype \n",
      "---  ------              --------------  ----- \n",
      " 0   Пользователь        46 non-null     object\n",
      " 1   Регион Города       46 non-null     object\n",
      " 2   Город Пользователя  46 non-null     object\n",
      " 3   Количество Мусора   46 non-null     object\n",
      " 4   Тип Мусора          46 non-null     object\n",
      " 5   Искатель            46 non-null     object\n",
      " 6   Количество Баллов   46 non-null     int64 \n",
      " 7   Дата Завершения     46 non-null     object\n",
      "dtypes: int64(1), object(7)\n",
      "memory usage: 3.0+ KB\n"
     ]
    }
   ],
   "source": [
    "green_user_stats.info()"
   ]
  },
  {
   "cell_type": "markdown",
   "metadata": {},
   "source": [
    "Green_User какая-то странная таблица, займемся ей позже"
   ]
  },
  {
   "cell_type": "markdown",
   "metadata": {},
   "source": [
    "### Lesson_stats:"
   ]
  },
  {
   "cell_type": "code",
   "execution_count": 554,
   "metadata": {},
   "outputs": [
    {
     "data": {
      "text/html": [
       "<div>\n",
       "<style scoped>\n",
       "    .dataframe tbody tr th:only-of-type {\n",
       "        vertical-align: middle;\n",
       "    }\n",
       "\n",
       "    .dataframe tbody tr th {\n",
       "        vertical-align: top;\n",
       "    }\n",
       "\n",
       "    .dataframe thead th {\n",
       "        text-align: right;\n",
       "    }\n",
       "</style>\n",
       "<table border=\"1\" class=\"dataframe\">\n",
       "  <thead>\n",
       "    <tr style=\"text-align: right;\">\n",
       "      <th></th>\n",
       "      <th>Пользователь</th>\n",
       "      <th>Дата открытия модуля</th>\n",
       "      <th>Дата начала прослушивания</th>\n",
       "      <th>Начало теста</th>\n",
       "      <th>Завершение теста</th>\n",
       "      <th>Урок</th>\n",
       "      <th>Количество баллов за тест</th>\n",
       "    </tr>\n",
       "  </thead>\n",
       "  <tbody>\n",
       "    <tr>\n",
       "      <th>0</th>\n",
       "      <td>test@test.ru</td>\n",
       "      <td>2024-09-10 21:57:49.431957+00:00</td>\n",
       "      <td>2024-05-29 10:17:26.910777+00:00</td>\n",
       "      <td>2024-05-29 10:19:57.469127+00:00</td>\n",
       "      <td>NaN</td>\n",
       "      <td>1</td>\n",
       "      <td>NaN</td>\n",
       "    </tr>\n",
       "    <tr>\n",
       "      <th>1</th>\n",
       "      <td>zhenyakasyanova@gmail.com</td>\n",
       "      <td>2024-05-29 10:42:21.910412+00:00</td>\n",
       "      <td>2024-05-29 10:42:27.165974+00:00</td>\n",
       "      <td>2024-05-29 10:56:48.047761+00:00</td>\n",
       "      <td>2024-05-29 10:58:52.901134+00:00</td>\n",
       "      <td>4</td>\n",
       "      <td>9.0</td>\n",
       "    </tr>\n",
       "  </tbody>\n",
       "</table>\n",
       "</div>"
      ],
      "text/plain": [
       "                Пользователь              Дата открытия модуля  \\\n",
       "0               test@test.ru  2024-09-10 21:57:49.431957+00:00   \n",
       "1  zhenyakasyanova@gmail.com  2024-05-29 10:42:21.910412+00:00   \n",
       "\n",
       "          Дата начала прослушивания                      Начало теста  \\\n",
       "0  2024-05-29 10:17:26.910777+00:00  2024-05-29 10:19:57.469127+00:00   \n",
       "1  2024-05-29 10:42:27.165974+00:00  2024-05-29 10:56:48.047761+00:00   \n",
       "\n",
       "                   Завершение теста  Урок  Количество баллов за тест  \n",
       "0                               NaN     1                        NaN  \n",
       "1  2024-05-29 10:58:52.901134+00:00     4                        9.0  "
      ]
     },
     "execution_count": 554,
     "metadata": {},
     "output_type": "execute_result"
    }
   ],
   "source": [
    "lesson_stats.head(2)"
   ]
  },
  {
   "cell_type": "code",
   "execution_count": 555,
   "metadata": {},
   "outputs": [
    {
     "data": {
      "text/plain": [
       "Дата начала прослушивания    462\n",
       "Завершение теста             358\n",
       "Количество баллов за тест    358\n",
       "Начало теста                 324\n",
       "Пользователь                   0\n",
       "Дата открытия модуля           0\n",
       "Урок                           0\n",
       "dtype: int64"
      ]
     },
     "execution_count": 555,
     "metadata": {},
     "output_type": "execute_result"
    }
   ],
   "source": [
    "lesson_stats.isna().sum().sort_values(ascending=False)"
   ]
  },
  {
   "cell_type": "code",
   "execution_count": 556,
   "metadata": {},
   "outputs": [],
   "source": [
    "lesson_stats['Пользователь'] = lesson_stats['Пользователь'].str.lower()"
   ]
  },
  {
   "cell_type": "code",
   "execution_count": 557,
   "metadata": {},
   "outputs": [],
   "source": [
    "lessons_finished = Counter(lesson_stats.loc[~lesson_stats['Количество баллов за тест'].isna(), 'Пользователь'].to_list()).most_common()\n",
    "lessons_total = Counter(lesson_stats['Пользователь'].to_list()).most_common()\n",
    "\n",
    "lessons_finished_dict = counter_list_to_dict(lessons_finished)\n",
    "lessons_total_dict = counter_list_to_dict(lessons_total)"
   ]
  },
  {
   "cell_type": "markdown",
   "metadata": {},
   "source": [
    "### Statistics_of_the_other_users:"
   ]
  },
  {
   "cell_type": "markdown",
   "metadata": {},
   "source": [
    "Посчитаем для каждого пользователя количество уроков (всего и законченных):"
   ]
  },
  {
   "cell_type": "code",
   "execution_count": 558,
   "metadata": {},
   "outputs": [
    {
     "data": {
      "text/html": [
       "<div>\n",
       "<style scoped>\n",
       "    .dataframe tbody tr th:only-of-type {\n",
       "        vertical-align: middle;\n",
       "    }\n",
       "\n",
       "    .dataframe tbody tr th {\n",
       "        vertical-align: top;\n",
       "    }\n",
       "\n",
       "    .dataframe thead th {\n",
       "        text-align: right;\n",
       "    }\n",
       "</style>\n",
       "<table border=\"1\" class=\"dataframe\">\n",
       "  <thead>\n",
       "    <tr style=\"text-align: right;\">\n",
       "      <th></th>\n",
       "      <th>Пользователь</th>\n",
       "      <th>Лучший Урок</th>\n",
       "      <th>Открытие</th>\n",
       "      <th>Рекомендации</th>\n",
       "      <th>Дата Завершения</th>\n",
       "    </tr>\n",
       "  </thead>\n",
       "  <tbody>\n",
       "    <tr>\n",
       "      <th>0</th>\n",
       "      <td>ivan.ptr@gmail.com</td>\n",
       "      <td>Тайны мусорных контейнеров</td>\n",
       "      <td>Test</td>\n",
       "      <td>8</td>\n",
       "      <td>May 29, 2024, 6:53 a.m.</td>\n",
       "    </tr>\n",
       "    <tr>\n",
       "      <th>1</th>\n",
       "      <td>ivan.ptr@gmail.com</td>\n",
       "      <td>В среде обитания</td>\n",
       "      <td>Test</td>\n",
       "      <td>8</td>\n",
       "      <td>May 29, 2024, 6:53 a.m.</td>\n",
       "    </tr>\n",
       "    <tr>\n",
       "      <th>2</th>\n",
       "      <td>tes1t@test.ru</td>\n",
       "      <td>Идём по углеродному следу</td>\n",
       "      <td>dasd</td>\n",
       "      <td>5</td>\n",
       "      <td>May 29, 2024, 8:21 a.m.</td>\n",
       "    </tr>\n",
       "    <tr>\n",
       "      <th>3</th>\n",
       "      <td>tes1t@test.ru</td>\n",
       "      <td>Пульс городских вод</td>\n",
       "      <td>dasd</td>\n",
       "      <td>5</td>\n",
       "      <td>May 29, 2024, 8:21 a.m.</td>\n",
       "    </tr>\n",
       "    <tr>\n",
       "      <th>4</th>\n",
       "      <td>test2@test.ru</td>\n",
       "      <td>Идём по углеродному следу</td>\n",
       "      <td>13123123</td>\n",
       "      <td>10</td>\n",
       "      <td>May 29, 2024, 9:22 a.m.</td>\n",
       "    </tr>\n",
       "  </tbody>\n",
       "</table>\n",
       "</div>"
      ],
      "text/plain": [
       "         Пользователь                 Лучший Урок  Открытие  Рекомендации  \\\n",
       "0  ivan.ptr@gmail.com  Тайны мусорных контейнеров      Test             8   \n",
       "1  ivan.ptr@gmail.com            В среде обитания      Test             8   \n",
       "2       tes1t@test.ru   Идём по углеродному следу      dasd             5   \n",
       "3       tes1t@test.ru         Пульс городских вод      dasd             5   \n",
       "4       test2@test.ru   Идём по углеродному следу  13123123            10   \n",
       "\n",
       "           Дата Завершения  \n",
       "0  May 29, 2024, 6:53 a.m.  \n",
       "1  May 29, 2024, 6:53 a.m.  \n",
       "2  May 29, 2024, 8:21 a.m.  \n",
       "3  May 29, 2024, 8:21 a.m.  \n",
       "4  May 29, 2024, 9:22 a.m.  "
      ]
     },
     "execution_count": 558,
     "metadata": {},
     "output_type": "execute_result"
    }
   ],
   "source": [
    "statistics_of_the_other_users.head(5)"
   ]
  },
  {
   "cell_type": "code",
   "execution_count": 559,
   "metadata": {},
   "outputs": [
    {
     "name": "stdout",
     "output_type": "stream",
     "text": [
      "<class 'pandas.core.frame.DataFrame'>\n",
      "RangeIndex: 56 entries, 0 to 55\n",
      "Data columns (total 5 columns):\n",
      " #   Column           Non-Null Count  Dtype \n",
      "---  ------           --------------  ----- \n",
      " 0   Пользователь     56 non-null     object\n",
      " 1   Лучший Урок      56 non-null     object\n",
      " 2   Открытие         56 non-null     object\n",
      " 3   Рекомендации     56 non-null     int64 \n",
      " 4   Дата Завершения  56 non-null     object\n",
      "dtypes: int64(1), object(4)\n",
      "memory usage: 2.3+ KB\n"
     ]
    }
   ],
   "source": [
    "statistics_of_the_other_users.info()"
   ]
  },
  {
   "cell_type": "markdown",
   "metadata": {},
   "source": [
    "Очередная странная таблица :) Надо будет попробовать объединить её с первой странной таблицей!"
   ]
  },
  {
   "cell_type": "markdown",
   "metadata": {},
   "source": [
    "### User_details:"
   ]
  },
  {
   "cell_type": "code",
   "execution_count": 560,
   "metadata": {},
   "outputs": [
    {
     "data": {
      "text/html": [
       "<div>\n",
       "<style scoped>\n",
       "    .dataframe tbody tr th:only-of-type {\n",
       "        vertical-align: middle;\n",
       "    }\n",
       "\n",
       "    .dataframe tbody tr th {\n",
       "        vertical-align: top;\n",
       "    }\n",
       "\n",
       "    .dataframe thead th {\n",
       "        text-align: right;\n",
       "    }\n",
       "</style>\n",
       "<table border=\"1\" class=\"dataframe\">\n",
       "  <thead>\n",
       "    <tr style=\"text-align: right;\">\n",
       "      <th></th>\n",
       "      <th>Пользователь</th>\n",
       "      <th>Местоположение</th>\n",
       "      <th>Монеты</th>\n",
       "      <th>Подписчики</th>\n",
       "      <th>Пароль</th>\n",
       "      <th>Новости</th>\n",
       "    </tr>\n",
       "  </thead>\n",
       "  <tbody>\n",
       "    <tr>\n",
       "      <th>0</th>\n",
       "      <td>test@test.ru</td>\n",
       "      <td>Мурманск</td>\n",
       "      <td>109</td>\n",
       "      <td>True</td>\n",
       "      <td>12345</td>\n",
       "      <td>False</td>\n",
       "    </tr>\n",
       "    <tr>\n",
       "      <th>1</th>\n",
       "      <td>zdotat@yandex.ru</td>\n",
       "      <td>Москва</td>\n",
       "      <td>67</td>\n",
       "      <td>True</td>\n",
       "      <td>12345</td>\n",
       "      <td>False</td>\n",
       "    </tr>\n",
       "  </tbody>\n",
       "</table>\n",
       "</div>"
      ],
      "text/plain": [
       "       Пользователь Местоположение  Монеты  Подписчики Пароль  Новости\n",
       "0      test@test.ru       Мурманск     109        True  12345    False\n",
       "1  zdotat@yandex.ru         Москва      67        True  12345    False"
      ]
     },
     "execution_count": 560,
     "metadata": {},
     "output_type": "execute_result"
    }
   ],
   "source": [
    "user_details.head(2)"
   ]
  },
  {
   "cell_type": "code",
   "execution_count": 561,
   "metadata": {},
   "outputs": [
    {
     "name": "stdout",
     "output_type": "stream",
     "text": [
      "<class 'pandas.core.frame.DataFrame'>\n",
      "RangeIndex: 654 entries, 0 to 653\n",
      "Data columns (total 6 columns):\n",
      " #   Column          Non-Null Count  Dtype \n",
      "---  ------          --------------  ----- \n",
      " 0   Пользователь    654 non-null    object\n",
      " 1   Местоположение  654 non-null    object\n",
      " 2   Монеты          654 non-null    int64 \n",
      " 3   Подписчики      654 non-null    bool  \n",
      " 4   Пароль          654 non-null    object\n",
      " 5   Новости         654 non-null    bool  \n",
      "dtypes: bool(2), int64(1), object(3)\n",
      "memory usage: 21.8+ KB\n"
     ]
    }
   ],
   "source": [
    "user_details.info()"
   ]
  },
  {
   "cell_type": "code",
   "execution_count": 562,
   "metadata": {},
   "outputs": [
    {
     "data": {
      "text/plain": [
       "654"
      ]
     },
     "execution_count": 562,
     "metadata": {},
     "output_type": "execute_result"
    }
   ],
   "source": [
    "user_details['Пользователь'].nunique()"
   ]
  },
  {
   "cell_type": "code",
   "execution_count": 563,
   "metadata": {},
   "outputs": [],
   "source": [
    "user_details['Пользователь'] = user_details['Пользователь'].str.lower()"
   ]
  },
  {
   "cell_type": "markdown",
   "metadata": {},
   "source": [
    "### Users:"
   ]
  },
  {
   "cell_type": "code",
   "execution_count": 564,
   "metadata": {},
   "outputs": [
    {
     "data": {
      "text/html": [
       "<div>\n",
       "<style scoped>\n",
       "    .dataframe tbody tr th:only-of-type {\n",
       "        vertical-align: middle;\n",
       "    }\n",
       "\n",
       "    .dataframe tbody tr th {\n",
       "        vertical-align: top;\n",
       "    }\n",
       "\n",
       "    .dataframe thead th {\n",
       "        text-align: right;\n",
       "    }\n",
       "</style>\n",
       "<table border=\"1\" class=\"dataframe\">\n",
       "  <thead>\n",
       "    <tr style=\"text-align: right;\">\n",
       "      <th></th>\n",
       "      <th>Unnamed: 0</th>\n",
       "      <th>USERNAME</th>\n",
       "      <th>EMAIL ADDRESS</th>\n",
       "      <th>FIRST NAME</th>\n",
       "      <th>LAST NAME</th>\n",
       "      <th>STAFF STATUS</th>\n",
       "    </tr>\n",
       "  </thead>\n",
       "  <tbody>\n",
       "    <tr>\n",
       "      <th>0</th>\n",
       "      <td>0</td>\n",
       "      <td>040198asya@mail.ru</td>\n",
       "      <td>040198asya@mail.ru</td>\n",
       "      <td>Анастасия</td>\n",
       "      <td>Осминина</td>\n",
       "      <td>False</td>\n",
       "    </tr>\n",
       "    <tr>\n",
       "      <th>1</th>\n",
       "      <td>1</td>\n",
       "      <td>11.041982marina@gmail.com</td>\n",
       "      <td>11.041982marina@gmail.com</td>\n",
       "      <td>Марина</td>\n",
       "      <td>Гурьяшкина</td>\n",
       "      <td>False</td>\n",
       "    </tr>\n",
       "  </tbody>\n",
       "</table>\n",
       "</div>"
      ],
      "text/plain": [
       "   Unnamed: 0                   USERNAME              EMAIL ADDRESS  \\\n",
       "0           0         040198asya@mail.ru         040198asya@mail.ru   \n",
       "1           1  11.041982marina@gmail.com  11.041982marina@gmail.com   \n",
       "\n",
       "  FIRST NAME   LAST NAME  STAFF STATUS  \n",
       "0  Анастасия    Осминина         False  \n",
       "1     Марина  Гурьяшкина         False  "
      ]
     },
     "execution_count": 564,
     "metadata": {},
     "output_type": "execute_result"
    }
   ],
   "source": [
    "users.head(2)"
   ]
  },
  {
   "cell_type": "code",
   "execution_count": 565,
   "metadata": {},
   "outputs": [
    {
     "name": "stdout",
     "output_type": "stream",
     "text": [
      "<class 'pandas.core.frame.DataFrame'>\n",
      "RangeIndex: 659 entries, 0 to 658\n",
      "Data columns (total 6 columns):\n",
      " #   Column         Non-Null Count  Dtype \n",
      "---  ------         --------------  ----- \n",
      " 0   Unnamed: 0     659 non-null    int64 \n",
      " 1   USERNAME       659 non-null    object\n",
      " 2   EMAIL ADDRESS  659 non-null    object\n",
      " 3   FIRST NAME     659 non-null    object\n",
      " 4   LAST NAME      659 non-null    object\n",
      " 5   STAFF STATUS   659 non-null    bool  \n",
      "dtypes: bool(1), int64(1), object(4)\n",
      "memory usage: 26.5+ KB\n"
     ]
    }
   ],
   "source": [
    "users.info()"
   ]
  },
  {
   "cell_type": "code",
   "execution_count": 566,
   "metadata": {},
   "outputs": [],
   "source": [
    "users['USERNAME'] = users['USERNAME'].str.lower()\n",
    "users['EMAIL ADDRESS'] = users['EMAIL ADDRESS'].str.lower()"
   ]
  },
  {
   "cell_type": "code",
   "execution_count": 567,
   "metadata": {},
   "outputs": [
    {
     "data": {
      "text/plain": [
       "654"
      ]
     },
     "execution_count": 567,
     "metadata": {},
     "output_type": "execute_result"
    }
   ],
   "source": [
    "users['EMAIL ADDRESS'].nunique()"
   ]
  },
  {
   "cell_type": "markdown",
   "metadata": {},
   "source": [
    "Есть один адрес который надо поправить в таблицах:"
   ]
  },
  {
   "cell_type": "markdown",
   "metadata": {},
   "source": [
    "Выделим уникальных пользователей:"
   ]
  },
  {
   "cell_type": "code",
   "execution_count": 568,
   "metadata": {},
   "outputs": [
    {
     "data": {
      "text/plain": [
       "([], ['pepiks@yandex.ru', 'ferrick@mail.ru', 'n_bumagina2015@mail.ru', '-'])"
      ]
     },
     "execution_count": 568,
     "metadata": {},
     "output_type": "execute_result"
    }
   ],
   "source": [
    "users_unique = users['EMAIL ADDRESS'].unique()\n",
    "user_details_unique = user_details['Пользователь'].unique()\n",
    "lesson_stats_unique = lesson_stats['Пользователь'].unique()\n",
    "\n",
    "l1_ = [el for el in user_details_unique if el not in users_unique]\n",
    "l2_ = [el for el in users_unique if el not in user_details_unique]\n",
    "\n",
    "l1_, l2_"
   ]
  },
  {
   "cell_type": "code",
   "execution_count": 569,
   "metadata": {},
   "outputs": [
    {
     "data": {
      "text/html": [
       "<div>\n",
       "<style scoped>\n",
       "    .dataframe tbody tr th:only-of-type {\n",
       "        vertical-align: middle;\n",
       "    }\n",
       "\n",
       "    .dataframe tbody tr th {\n",
       "        vertical-align: top;\n",
       "    }\n",
       "\n",
       "    .dataframe thead th {\n",
       "        text-align: right;\n",
       "    }\n",
       "</style>\n",
       "<table border=\"1\" class=\"dataframe\">\n",
       "  <thead>\n",
       "    <tr style=\"text-align: right;\">\n",
       "      <th></th>\n",
       "      <th>Unnamed: 0</th>\n",
       "      <th>USERNAME</th>\n",
       "      <th>EMAIL ADDRESS</th>\n",
       "      <th>FIRST NAME</th>\n",
       "      <th>LAST NAME</th>\n",
       "      <th>STAFF STATUS</th>\n",
       "    </tr>\n",
       "  </thead>\n",
       "  <tbody>\n",
       "    <tr>\n",
       "      <th>20</th>\n",
       "      <td>20</td>\n",
       "      <td>admin</td>\n",
       "      <td>pepiks@yandex.ru</td>\n",
       "      <td>-</td>\n",
       "      <td>-</td>\n",
       "      <td>True</td>\n",
       "    </tr>\n",
       "    <tr>\n",
       "      <th>155</th>\n",
       "      <td>155</td>\n",
       "      <td>ferrick@mail.ru</td>\n",
       "      <td>ferrick@mail.ru</td>\n",
       "      <td>Николай</td>\n",
       "      <td>Голомбовский</td>\n",
       "      <td>False</td>\n",
       "    </tr>\n",
       "    <tr>\n",
       "      <th>420</th>\n",
       "      <td>420</td>\n",
       "      <td>n_bumagina2015@mail.ru</td>\n",
       "      <td>n_bumagina2015@mail.ru</td>\n",
       "      <td>Наталья</td>\n",
       "      <td>Бумагина</td>\n",
       "      <td>False</td>\n",
       "    </tr>\n",
       "    <tr>\n",
       "      <th>437</th>\n",
       "      <td>437</td>\n",
       "      <td>ogenor</td>\n",
       "      <td>-</td>\n",
       "      <td>-</td>\n",
       "      <td>-</td>\n",
       "      <td>True</td>\n",
       "    </tr>\n",
       "    <tr>\n",
       "      <th>542</th>\n",
       "      <td>542</td>\n",
       "      <td>statistic</td>\n",
       "      <td>-</td>\n",
       "      <td>-</td>\n",
       "      <td>-</td>\n",
       "      <td>True</td>\n",
       "    </tr>\n",
       "  </tbody>\n",
       "</table>\n",
       "</div>"
      ],
      "text/plain": [
       "     Unnamed: 0                USERNAME           EMAIL ADDRESS FIRST NAME  \\\n",
       "20           20                   admin        pepiks@yandex.ru          -   \n",
       "155         155         ferrick@mail.ru         ferrick@mail.ru    Николай   \n",
       "420         420  n_bumagina2015@mail.ru  n_bumagina2015@mail.ru    Наталья   \n",
       "437         437                  ogenor                       -          -   \n",
       "542         542               statistic                       -          -   \n",
       "\n",
       "        LAST NAME  STAFF STATUS  \n",
       "20              -          True  \n",
       "155  Голомбовский         False  \n",
       "420      Бумагина         False  \n",
       "437             -          True  \n",
       "542             -          True  "
      ]
     },
     "execution_count": 569,
     "metadata": {},
     "output_type": "execute_result"
    }
   ],
   "source": [
    "users[users['EMAIL ADDRESS'].isin(l2_)]"
   ]
  },
  {
   "cell_type": "code",
   "execution_count": 570,
   "metadata": {},
   "outputs": [
    {
     "name": "stdout",
     "output_type": "stream",
     "text": [
      "Уникальных пользователей: users: 654, user_details: 650, lesson_stats: 437\n"
     ]
    }
   ],
   "source": [
    "print(f'Уникальных пользователей: users: {len(users_unique)}, user_details: {len(user_details_unique)}, lesson_stats: {len(lesson_stats_unique)}')"
   ]
  },
  {
   "cell_type": "markdown",
   "metadata": {},
   "source": [
    "### СТРАННЫЙ ДУБЛИКАТ\n",
    "\n",
    "- dolgihn@bk.ru\n",
    "- nadezhda-tkachenko@yandex.ru\n",
    "- yase-olga@mail.ru\n",
    "- komarova.n4stasya@yandex.ru"
   ]
  },
  {
   "cell_type": "markdown",
   "metadata": {},
   "source": [
    "Переименуем столбцы в таблице **users**, приведём названия к одному виду:"
   ]
  },
  {
   "cell_type": "code",
   "execution_count": 571,
   "metadata": {},
   "outputs": [],
   "source": [
    "users = users.drop('Unnamed: 0', axis=1)\n",
    "users = users.rename(columns={'USERNAME':'Пользователь', 'EMAIL ADDRESS':'email', 'FIRST NAME':'Имя', 'LAST NAME':'Фамилия', 'STAFF STATUS':'Персонал'})"
   ]
  },
  {
   "cell_type": "markdown",
   "metadata": {},
   "source": [
    "Соединим таблицы **users** и **user_details**:"
   ]
  },
  {
   "cell_type": "code",
   "execution_count": 572,
   "metadata": {},
   "outputs": [],
   "source": [
    "users_merged = users.merge(user_details, how='left', on='Пользователь')"
   ]
  },
  {
   "cell_type": "code",
   "execution_count": 573,
   "metadata": {},
   "outputs": [
    {
     "name": "stdout",
     "output_type": "stream",
     "text": [
      "<class 'pandas.core.frame.DataFrame'>\n",
      "Int64Index: 667 entries, 0 to 666\n",
      "Data columns (total 10 columns):\n",
      " #   Column          Non-Null Count  Dtype  \n",
      "---  ------          --------------  -----  \n",
      " 0   Пользователь    667 non-null    object \n",
      " 1   email           667 non-null    object \n",
      " 2   Имя             667 non-null    object \n",
      " 3   Фамилия         667 non-null    object \n",
      " 4   Персонал        667 non-null    bool   \n",
      " 5   Местоположение  662 non-null    object \n",
      " 6   Монеты          662 non-null    float64\n",
      " 7   Подписчики      662 non-null    object \n",
      " 8   Пароль          662 non-null    object \n",
      " 9   Новости         662 non-null    object \n",
      "dtypes: bool(1), float64(1), object(8)\n",
      "memory usage: 52.8+ KB\n"
     ]
    }
   ],
   "source": [
    "users_merged.info()"
   ]
  },
  {
   "cell_type": "code",
   "execution_count": 574,
   "metadata": {},
   "outputs": [],
   "source": [
    "users_merged = users_merged.drop('Пароль', axis=1)\n",
    "\n",
    "users_merged['Персонал'] = users_merged['Персонал'].apply(lambda x: 1 if x else 0)\n",
    "users_merged['Новости'] = users_merged['Новости'].apply(lambda x: 1 if x else 0)\n",
    "users_merged['Подписчики'] = users_merged['Подписчики'].apply(lambda x: 1 if x else 0)"
   ]
  },
  {
   "cell_type": "markdown",
   "metadata": {},
   "source": [
    "Заполняем пропуски:"
   ]
  },
  {
   "cell_type": "code",
   "execution_count": 575,
   "metadata": {},
   "outputs": [],
   "source": [
    "users_merged['Монеты'] = users_merged['Монеты'].fillna(0)\n",
    "users_merged['Местоположение'] = users_merged['Местоположение'].fillna('Без города')"
   ]
  },
  {
   "cell_type": "markdown",
   "metadata": {},
   "source": [
    "Добавим информацию по урокам:"
   ]
  },
  {
   "cell_type": "code",
   "execution_count": 576,
   "metadata": {},
   "outputs": [],
   "source": [
    "users_merged['Количество уроков всего'] = users_merged['Пользователь'].map(lessons_total_dict)\n",
    "users_merged['Количество законченных уроков'] = users_merged['Пользователь'].map(lessons_finished_dict)\n",
    "\n",
    "users_merged['Количество уроков всего'] = users_merged['Количество уроков всего'].fillna(0)\n",
    "users_merged['Количество законченных уроков'] = users_merged['Количество законченных уроков'].fillna(0)"
   ]
  },
  {
   "cell_type": "markdown",
   "metadata": {},
   "source": [
    "Обработаем таблицу **lesson_stats**.\n",
    "\n",
    "Переведём временные значения к формату **datetime**:"
   ]
  },
  {
   "cell_type": "code",
   "execution_count": 577,
   "metadata": {},
   "outputs": [],
   "source": [
    "cols = lesson_stats.columns[1:5]\n",
    "lesson_stats[cols] = lesson_stats[cols].apply(pd.to_datetime, errors='coerce')"
   ]
  },
  {
   "cell_type": "code",
   "execution_count": 578,
   "metadata": {},
   "outputs": [],
   "source": [
    "mask = lesson_stats['Количество баллов за тест'].isna()\n",
    "lesson_stats['Время теста'] = 0\n",
    "lesson_stats.loc[~mask, 'Время теста'] = lesson_stats.loc[~mask, 'Завершение теста'] - lesson_stats.loc[~mask, 'Начало теста']\n",
    "\n",
    "lesson_stats['Время теста'] = lesson_stats['Время теста'].map(lambda x: pd.to_timedelta(x).seconds)"
   ]
  },
  {
   "cell_type": "markdown",
   "metadata": {},
   "source": [
    "Вернёмся к объединенной таблице **users_merged**:\n",
    "\n",
    "Добавим средний балл:"
   ]
  },
  {
   "cell_type": "code",
   "execution_count": 579,
   "metadata": {},
   "outputs": [],
   "source": [
    "# уникальные пользователи исключая работников\n",
    "users_list = users_merged[users_merged['Персонал'] == 0]['Пользователь'].unique()\n",
    "\n",
    "# уникальные пользователи проходязщие курс\n",
    "users_course_list = lesson_stats['Пользователь'].unique()"
   ]
  },
  {
   "cell_type": "markdown",
   "metadata": {},
   "source": [
    "Посчитаем средний балл за тест. Также добавим так же следующие признаки:\n",
    "- среднее время теста\n",
    "- номер урока, на котором остановился пользователь\n",
    "- время тестирования всего\n",
    "- время на курсе всего\n",
    "\n",
    "Ещё посчитаем полное время через *max_time - min_time*. До этого время на курсе было равно суммарному времени завершённых уроков, время урока посчитано через разницу\n",
    "*начало прослушивания* - *завершение тестирования*:"
   ]
  },
  {
   "cell_type": "code",
   "execution_count": 580,
   "metadata": {},
   "outputs": [],
   "source": [
    "av_points = {}\n",
    "av_time = {}\n",
    "\n",
    "current_lesson = {}\n",
    "\n",
    "test_time_total = {}\n",
    "total_time = {}\n",
    "total_time_max_min = {}\n",
    "\n",
    "# найдём время, потраченное пользователем на конкретный урок\n",
    "lesson_stats['Время на уроке'] = lesson_stats['Завершение теста'] - lesson_stats['Дата начала прослушивания']\n",
    "lesson_stats['Время на уроке'] = round(lesson_stats['Время на уроке'].dt.total_seconds(), 0)\n",
    "lesson_stats['Время на уроке'] = lesson_stats['Время на уроке'].fillna(0)\n",
    "\n",
    "for user in users_course_list:  \n",
    "    # считаем номер урока, на котором остановился пользователь\n",
    "    mask = (lesson_stats['Пользователь'] == user) & (~lesson_stats['Завершение теста'].isna())\n",
    "    lessons_list = lesson_stats.loc[mask, 'Урок'].to_list()\n",
    "    lessons_list.sort()\n",
    "    if len(lessons_list) == 0:\n",
    "        current_lesson[user] = 1\n",
    "    else:\n",
    "        current_lesson[user] = lessons_list[-1] + 1\n",
    "        \n",
    "    # считаем средний балл за тест и среднее время теста\n",
    "    mask_ = (lesson_stats['Пользователь'] == user) & (~lesson_stats['Количество баллов за тест'].isna())\n",
    "    lessons_finished = users_merged.loc[users_merged['Пользователь'] == user, 'Количество законченных уроков'].values[0]   \n",
    "    if lessons_finished != 0:\n",
    "        av_points[user] = round(lesson_stats.loc[mask_, 'Количество баллов за тест'].sum() / lessons_finished, 2)\n",
    "        av_time[user] = round(lesson_stats.loc[mask_, 'Время теста'].sum() / lessons_finished, 2)\n",
    "    else:\n",
    "        av_points[user] = 0\n",
    "        av_time[user] = 0\n",
    "\n",
    "    # считаем время, потраченное на все тесты и время, потраченное на уроки (с тестом) \n",
    "    test_time_total[user] = lesson_stats.loc[mask, 'Время теста'].sum()\n",
    "    total_time[user] = lesson_stats.loc[mask, 'Время на уроке'].sum()\n",
    "    \n",
    "    # считаем время курса через max_time - min_time\n",
    "    mask = lesson_stats['Пользователь'] == user\n",
    "    cols_time = lesson_stats.columns.to_list()[1:5]\n",
    "    mins = lesson_stats.loc[mask, cols_time].min()\n",
    "    maxs = lesson_stats.loc[mask, cols_time].max()\n",
    "    diff = (maxs.max() - mins.min()).seconds\n",
    "    total_time_max_min[user] = diff\n",
    "    \n",
    "users_merged['Текущий урок'] = users_merged['Пользователь'].map(current_lesson)\n",
    "\n",
    "users_merged['Средняя оценка'] = users_merged['Пользователь'].map(av_points)\n",
    "users_merged['Среднее время теста'] = users_merged['Пользователь'].map(av_time)\n",
    "\n",
    "users_merged['Время тестирования всего'] = users_merged['Пользователь'].map(test_time_total)\n",
    "users_merged['Время на курсе (завершённые уроки)'] = users_merged['Пользователь'].map(total_time)\n",
    "users_merged['Время на курсе (max-min)'] = users_merged['Пользователь'].map(total_time_max_min)\n",
    "\n",
    "\n",
    "# cols = ['Средняя оценка', 'Среднее время теста', 'Текущий урок', 'Время тестирования всего', 'Время на курсе (завершённые уроки)', 'Время на курсе (max-min)']\n",
    "users_merged = users_merged.fillna(0)"
   ]
  },
  {
   "cell_type": "code",
   "execution_count": 581,
   "metadata": {},
   "outputs": [
    {
     "data": {
      "text/html": [
       "<div>\n",
       "<style scoped>\n",
       "    .dataframe tbody tr th:only-of-type {\n",
       "        vertical-align: middle;\n",
       "    }\n",
       "\n",
       "    .dataframe tbody tr th {\n",
       "        vertical-align: top;\n",
       "    }\n",
       "\n",
       "    .dataframe thead th {\n",
       "        text-align: right;\n",
       "    }\n",
       "</style>\n",
       "<table border=\"1\" class=\"dataframe\">\n",
       "  <thead>\n",
       "    <tr style=\"text-align: right;\">\n",
       "      <th></th>\n",
       "      <th>Пользователь</th>\n",
       "      <th>email</th>\n",
       "      <th>Имя</th>\n",
       "      <th>Фамилия</th>\n",
       "      <th>Персонал</th>\n",
       "      <th>Местоположение</th>\n",
       "      <th>Монеты</th>\n",
       "      <th>Подписчики</th>\n",
       "      <th>Новости</th>\n",
       "      <th>Количество уроков всего</th>\n",
       "      <th>Количество законченных уроков</th>\n",
       "      <th>Текущий урок</th>\n",
       "      <th>Средняя оценка</th>\n",
       "      <th>Среднее время теста</th>\n",
       "      <th>Время тестирования всего</th>\n",
       "      <th>Время на курсе (завершённые уроки)</th>\n",
       "      <th>Время на курсе (max-min)</th>\n",
       "    </tr>\n",
       "  </thead>\n",
       "  <tbody>\n",
       "    <tr>\n",
       "      <th>0</th>\n",
       "      <td>040198asya@mail.ru</td>\n",
       "      <td>040198asya@mail.ru</td>\n",
       "      <td>Анастасия</td>\n",
       "      <td>Осминина</td>\n",
       "      <td>0</td>\n",
       "      <td>Екатеринбург</td>\n",
       "      <td>18.0</td>\n",
       "      <td>1</td>\n",
       "      <td>1</td>\n",
       "      <td>3.0</td>\n",
       "      <td>2.0</td>\n",
       "      <td>3.0</td>\n",
       "      <td>9.0</td>\n",
       "      <td>68.0</td>\n",
       "      <td>136.0</td>\n",
       "      <td>1158.0</td>\n",
       "      <td>1353.0</td>\n",
       "    </tr>\n",
       "    <tr>\n",
       "      <th>1</th>\n",
       "      <td>11.041982marina@gmail.com</td>\n",
       "      <td>11.041982marina@gmail.com</td>\n",
       "      <td>Марина</td>\n",
       "      <td>Гурьяшкина</td>\n",
       "      <td>0</td>\n",
       "      <td>Рязань</td>\n",
       "      <td>0.0</td>\n",
       "      <td>1</td>\n",
       "      <td>1</td>\n",
       "      <td>0.0</td>\n",
       "      <td>0.0</td>\n",
       "      <td>0.0</td>\n",
       "      <td>0.0</td>\n",
       "      <td>0.0</td>\n",
       "      <td>0.0</td>\n",
       "      <td>0.0</td>\n",
       "      <td>0.0</td>\n",
       "    </tr>\n",
       "    <tr>\n",
       "      <th>2</th>\n",
       "      <td>12131981@mail.ru</td>\n",
       "      <td>12131981@mail.ru</td>\n",
       "      <td>Наталья</td>\n",
       "      <td>Дейниченко</td>\n",
       "      <td>0</td>\n",
       "      <td>Владивосток</td>\n",
       "      <td>0.0</td>\n",
       "      <td>1</td>\n",
       "      <td>0</td>\n",
       "      <td>0.0</td>\n",
       "      <td>0.0</td>\n",
       "      <td>0.0</td>\n",
       "      <td>0.0</td>\n",
       "      <td>0.0</td>\n",
       "      <td>0.0</td>\n",
       "      <td>0.0</td>\n",
       "      <td>0.0</td>\n",
       "    </tr>\n",
       "    <tr>\n",
       "      <th>3</th>\n",
       "      <td>1291746@mail.ru</td>\n",
       "      <td>1291746@mail.ru</td>\n",
       "      <td>Ирина</td>\n",
       "      <td>Баландина</td>\n",
       "      <td>0</td>\n",
       "      <td>Пушкино</td>\n",
       "      <td>0.0</td>\n",
       "      <td>1</td>\n",
       "      <td>0</td>\n",
       "      <td>0.0</td>\n",
       "      <td>0.0</td>\n",
       "      <td>0.0</td>\n",
       "      <td>0.0</td>\n",
       "      <td>0.0</td>\n",
       "      <td>0.0</td>\n",
       "      <td>0.0</td>\n",
       "      <td>0.0</td>\n",
       "    </tr>\n",
       "    <tr>\n",
       "      <th>4</th>\n",
       "      <td>12irina1-3@mail.ru</td>\n",
       "      <td>12irina1-3@mail.ru</td>\n",
       "      <td>Ирина</td>\n",
       "      <td>Мусорина</td>\n",
       "      <td>0</td>\n",
       "      <td>Без города</td>\n",
       "      <td>0.0</td>\n",
       "      <td>0</td>\n",
       "      <td>0</td>\n",
       "      <td>0.0</td>\n",
       "      <td>0.0</td>\n",
       "      <td>0.0</td>\n",
       "      <td>0.0</td>\n",
       "      <td>0.0</td>\n",
       "      <td>0.0</td>\n",
       "      <td>0.0</td>\n",
       "      <td>0.0</td>\n",
       "    </tr>\n",
       "    <tr>\n",
       "      <th>5</th>\n",
       "      <td>1585yulia@mail.ru</td>\n",
       "      <td>1585yulia@mail.ru</td>\n",
       "      <td>Сергей</td>\n",
       "      <td>Смирнов</td>\n",
       "      <td>0</td>\n",
       "      <td>Волгоград</td>\n",
       "      <td>10.0</td>\n",
       "      <td>1</td>\n",
       "      <td>1</td>\n",
       "      <td>1.0</td>\n",
       "      <td>0.0</td>\n",
       "      <td>1.0</td>\n",
       "      <td>0.0</td>\n",
       "      <td>0.0</td>\n",
       "      <td>0.0</td>\n",
       "      <td>0.0</td>\n",
       "      <td>36.0</td>\n",
       "    </tr>\n",
       "    <tr>\n",
       "      <th>6</th>\n",
       "      <td>19svetochka91@mail.ru</td>\n",
       "      <td>19svetochka91@mail.ru</td>\n",
       "      <td>Светлана</td>\n",
       "      <td>Зыкова</td>\n",
       "      <td>0</td>\n",
       "      <td>Таганрог</td>\n",
       "      <td>10.0</td>\n",
       "      <td>1</td>\n",
       "      <td>1</td>\n",
       "      <td>1.0</td>\n",
       "      <td>0.0</td>\n",
       "      <td>1.0</td>\n",
       "      <td>0.0</td>\n",
       "      <td>0.0</td>\n",
       "      <td>0.0</td>\n",
       "      <td>0.0</td>\n",
       "      <td>72948.0</td>\n",
       "    </tr>\n",
       "    <tr>\n",
       "      <th>7</th>\n",
       "      <td>2424ula1978@mail.ru</td>\n",
       "      <td>2424ula1978@mail.ru</td>\n",
       "      <td>Юлия</td>\n",
       "      <td>Марченко</td>\n",
       "      <td>0</td>\n",
       "      <td>Без города</td>\n",
       "      <td>0.0</td>\n",
       "      <td>0</td>\n",
       "      <td>1</td>\n",
       "      <td>0.0</td>\n",
       "      <td>0.0</td>\n",
       "      <td>0.0</td>\n",
       "      <td>0.0</td>\n",
       "      <td>0.0</td>\n",
       "      <td>0.0</td>\n",
       "      <td>0.0</td>\n",
       "      <td>0.0</td>\n",
       "    </tr>\n",
       "    <tr>\n",
       "      <th>8</th>\n",
       "      <td>26bukreev26@mail.ru</td>\n",
       "      <td>26bukreev26@mail.ru</td>\n",
       "      <td>Анна</td>\n",
       "      <td>Букреева</td>\n",
       "      <td>0</td>\n",
       "      <td>Без города</td>\n",
       "      <td>0.0</td>\n",
       "      <td>0</td>\n",
       "      <td>1</td>\n",
       "      <td>0.0</td>\n",
       "      <td>0.0</td>\n",
       "      <td>0.0</td>\n",
       "      <td>0.0</td>\n",
       "      <td>0.0</td>\n",
       "      <td>0.0</td>\n",
       "      <td>0.0</td>\n",
       "      <td>0.0</td>\n",
       "    </tr>\n",
       "    <tr>\n",
       "      <th>9</th>\n",
       "      <td>6167079@mail.ru</td>\n",
       "      <td>6167079@mail.ru</td>\n",
       "      <td>Екатерина</td>\n",
       "      <td>Вараксина</td>\n",
       "      <td>0</td>\n",
       "      <td>Без города</td>\n",
       "      <td>0.0</td>\n",
       "      <td>0</td>\n",
       "      <td>1</td>\n",
       "      <td>1.0</td>\n",
       "      <td>0.0</td>\n",
       "      <td>1.0</td>\n",
       "      <td>0.0</td>\n",
       "      <td>0.0</td>\n",
       "      <td>0.0</td>\n",
       "      <td>0.0</td>\n",
       "      <td>0.0</td>\n",
       "    </tr>\n",
       "  </tbody>\n",
       "</table>\n",
       "</div>"
      ],
      "text/plain": [
       "                Пользователь                      email         Имя  \\\n",
       "0         040198asya@mail.ru         040198asya@mail.ru   Анастасия   \n",
       "1  11.041982marina@gmail.com  11.041982marina@gmail.com      Марина   \n",
       "2           12131981@mail.ru           12131981@mail.ru    Наталья    \n",
       "3            1291746@mail.ru            1291746@mail.ru       Ирина   \n",
       "4         12irina1-3@mail.ru         12irina1-3@mail.ru       Ирина   \n",
       "5          1585yulia@mail.ru          1585yulia@mail.ru      Сергей   \n",
       "6      19svetochka91@mail.ru      19svetochka91@mail.ru    Светлана   \n",
       "7        2424ula1978@mail.ru        2424ula1978@mail.ru        Юлия   \n",
       "8        26bukreev26@mail.ru        26bukreev26@mail.ru        Анна   \n",
       "9            6167079@mail.ru            6167079@mail.ru  Екатерина    \n",
       "\n",
       "       Фамилия  Персонал Местоположение  Монеты  Подписчики  Новости  \\\n",
       "0     Осминина         0   Екатеринбург    18.0           1        1   \n",
       "1   Гурьяшкина         0         Рязань     0.0           1        1   \n",
       "2  Дейниченко          0    Владивосток     0.0           1        0   \n",
       "3    Баландина         0        Пушкино     0.0           1        0   \n",
       "4     Мусорина         0     Без города     0.0           0        0   \n",
       "5      Смирнов         0      Волгоград    10.0           1        1   \n",
       "6       Зыкова         0       Таганрог    10.0           1        1   \n",
       "7    Марченко          0     Без города     0.0           0        1   \n",
       "8     Букреева         0     Без города     0.0           0        1   \n",
       "9   Вараксина          0     Без города     0.0           0        1   \n",
       "\n",
       "   Количество уроков всего  Количество законченных уроков  Текущий урок  \\\n",
       "0                      3.0                            2.0           3.0   \n",
       "1                      0.0                            0.0           0.0   \n",
       "2                      0.0                            0.0           0.0   \n",
       "3                      0.0                            0.0           0.0   \n",
       "4                      0.0                            0.0           0.0   \n",
       "5                      1.0                            0.0           1.0   \n",
       "6                      1.0                            0.0           1.0   \n",
       "7                      0.0                            0.0           0.0   \n",
       "8                      0.0                            0.0           0.0   \n",
       "9                      1.0                            0.0           1.0   \n",
       "\n",
       "   Средняя оценка  Среднее время теста  Время тестирования всего  \\\n",
       "0             9.0                 68.0                     136.0   \n",
       "1             0.0                  0.0                       0.0   \n",
       "2             0.0                  0.0                       0.0   \n",
       "3             0.0                  0.0                       0.0   \n",
       "4             0.0                  0.0                       0.0   \n",
       "5             0.0                  0.0                       0.0   \n",
       "6             0.0                  0.0                       0.0   \n",
       "7             0.0                  0.0                       0.0   \n",
       "8             0.0                  0.0                       0.0   \n",
       "9             0.0                  0.0                       0.0   \n",
       "\n",
       "   Время на курсе (завершённые уроки)  Время на курсе (max-min)  \n",
       "0                              1158.0                    1353.0  \n",
       "1                                 0.0                       0.0  \n",
       "2                                 0.0                       0.0  \n",
       "3                                 0.0                       0.0  \n",
       "4                                 0.0                       0.0  \n",
       "5                                 0.0                      36.0  \n",
       "6                                 0.0                   72948.0  \n",
       "7                                 0.0                       0.0  \n",
       "8                                 0.0                       0.0  \n",
       "9                                 0.0                       0.0  "
      ]
     },
     "execution_count": 581,
     "metadata": {},
     "output_type": "execute_result"
    }
   ],
   "source": [
    "users_merged.head(10)"
   ]
  },
  {
   "cell_type": "code",
   "execution_count": 582,
   "metadata": {},
   "outputs": [],
   "source": [
    "# экспортируем датафрейм в эксель\n",
    "\n",
    "# users_merged.to_excel(\"users.xlsx\", sheet_name='Уникальные пользователи')"
   ]
  },
  {
   "cell_type": "markdown",
   "metadata": {},
   "source": [
    "Теперь соберём статистику по урокам. Найдём следующие признаки для каждого урока:\n",
    "\n"
   ]
  },
  {
   "cell_type": "code",
   "execution_count": 583,
   "metadata": {},
   "outputs": [],
   "source": [
    "lesson_stats['Урок начат'] = ~lesson_stats['Дата начала прослушивания'].isna()\n",
    "lesson_stats['Урок закончен'] = ~lesson_stats['Завершение теста'].isna() & ~lesson_stats['Дата начала прослушивания'].isna()"
   ]
  },
  {
   "cell_type": "code",
   "execution_count": 584,
   "metadata": {},
   "outputs": [],
   "source": [
    "func_dict = {'Количество баллов за тест':'mean', 'Время на уроке':'mean', 'Время теста':'mean', 'Урок начат':'sum', 'Урок закончен':'sum'}\n",
    "cols_to_rename = {'Количество баллов за тест':'Средняя оценка теста',\n",
    "                  'Время на уроке':'Среднее время урока',\n",
    "                  'Время теста':'Среднее время теста',\n",
    "                  'Урок начат':'Пользователи, начавшие урок',\n",
    "                  'Урок закончен':'Пользователи, закончившие урок'\n",
    "                 }\n",
    "\n",
    "lessons_pivot = pd.pivot_table(lesson_stats, index='Урок', values=['Количество баллов за тест', 'Время на уроке', 'Время теста', 'Урок начат', 'Урок закончен'], aggfunc=func_dict)\n",
    "lessons_pivot = lessons_pivot.rename(columns=cols_to_rename)"
   ]
  },
  {
   "cell_type": "code",
   "execution_count": 585,
   "metadata": {},
   "outputs": [],
   "source": [
    "cities = users_merged['Местоположение'].value_counts()"
   ]
  },
  {
   "cell_type": "code",
   "execution_count": 586,
   "metadata": {},
   "outputs": [],
   "source": [
    "# экспортируем датафрейм в эксель\n",
    "\n",
    "# cities.to_excel('cities.xlsx', sheet_name='Города')\n",
    "# lessons_pivot.to_excel(\"lesson_pivots.xlsx\", sheet_name='Уроки')"
   ]
  },
  {
   "cell_type": "code",
   "execution_count": 587,
   "metadata": {},
   "outputs": [],
   "source": [
    "green_user_stats['Количество Мусора'] = green_user_stats['Количество Мусора'].str.split()\n",
    "green_user_stats['Количество Мусора'] = green_user_stats['Количество Мусора'].str[-2]"
   ]
  },
  {
   "cell_type": "code",
   "execution_count": 588,
   "metadata": {},
   "outputs": [],
   "source": [
    "green_user_stats.loc[green_user_stats['Количество Мусора'] == '17', 'Количество Мусора'] = '17-17'\n",
    "green_user_stats['Количество Мусора'] = green_user_stats['Количество Мусора'].str.replace('-', ' ')\n",
    "green_user_stats['Количество Мусора'] = green_user_stats['Количество Мусора'].str.split()\n",
    "\n",
    "green_user_stats['Мин. мешков'] = green_user_stats['Количество Мусора'].str[0]\n",
    "green_user_stats['Мин. мешков'] = green_user_stats['Мин. мешков'].astype(int)\n",
    "green_user_stats['Макс. мешков'] = green_user_stats['Количество Мусора'].str[1]\n",
    "green_user_stats['Макс. мешков'] = green_user_stats['Макс. мешков'].astype(int)\n",
    "\n",
    "green_user_stats['Среднее кол-во мешков'] = round((green_user_stats['Мин. мешков'] + green_user_stats['Макс. мешков']) / 2, 1)"
   ]
  },
  {
   "cell_type": "code",
   "execution_count": 589,
   "metadata": {},
   "outputs": [],
   "source": [
    "most_common_trash = {}\n",
    "for city in green_user_stats['Город Пользователя'].value_counts().index:\n",
    "    most_common_trash[city] = green_user_stats.loc[green_user_stats['Город Пользователя'] == city, 'Тип Мусора'].value_counts().index[0]\n",
    "\n",
    "green_func_dict = {'Количество Баллов':['mean', 'count'], 'Среднее кол-во мешков':'sum', 'Мин. мешков':'sum', 'Макс. мешков':'sum'}\n",
    "green_user_pivot = pd.pivot_table(\n",
    "    green_user_stats,\n",
    "    index='Город Пользователя',\n",
    "    values=['Количество Баллов', 'Среднее кол-во мешков', 'Мин. мешков', 'Макс. мешков'],\n",
    "    aggfunc=green_func_dict\n",
    ")\n",
    "green_user_pivot['Наиболее частый мусор'] = green_user_pivot.index.map(most_common_trash)\n",
    "\n",
    "green_user_pivot['Количество мусора'] = green_user_pivot['Мин. мешков'].astype(str) + '-' + green_user_pivot['Макс. мешков'].astype(str) + ' мешков'"
   ]
  },
  {
   "cell_type": "code",
   "execution_count": 590,
   "metadata": {},
   "outputs": [],
   "source": [
    "green_user_pivot.columns = ['Количество участников',\n",
    "                            'Средний балл',\n",
    "                            '1',\n",
    "                            '2',\n",
    "                            'Всего мешков(сумма средних)',\n",
    "                            'Наиболее частый мусор',\n",
    "                            'Всего мешков(сумма интервалов)'\n",
    "                        ]\n",
    "green_user_pivot.reset_index()\n",
    "\n",
    "mask = green_user_pivot['1'] == green_user_pivot['2']\n",
    "green_user_pivot.loc[mask, 'Всего мешков(сумма интервалов)'] = green_user_pivot.loc[mask, '1'].astype(str) + '+ мешков'\n",
    "\n",
    "green_user_pivot['Средний балл'] = round(green_user_pivot['Средний балл'], 1)\n",
    "\n",
    "green_user_pivot = green_user_pivot.drop(columns=['1', '2'])"
   ]
  },
  {
   "cell_type": "code",
   "execution_count": 591,
   "metadata": {},
   "outputs": [
    {
     "data": {
      "text/html": [
       "<div>\n",
       "<style scoped>\n",
       "    .dataframe tbody tr th:only-of-type {\n",
       "        vertical-align: middle;\n",
       "    }\n",
       "\n",
       "    .dataframe tbody tr th {\n",
       "        vertical-align: top;\n",
       "    }\n",
       "\n",
       "    .dataframe thead th {\n",
       "        text-align: right;\n",
       "    }\n",
       "</style>\n",
       "<table border=\"1\" class=\"dataframe\">\n",
       "  <thead>\n",
       "    <tr style=\"text-align: right;\">\n",
       "      <th></th>\n",
       "      <th>Количество участников</th>\n",
       "      <th>Средний балл</th>\n",
       "      <th>Всего мешков(сумма средних)</th>\n",
       "      <th>Наиболее частый мусор</th>\n",
       "      <th>Всего мешков(сумма интервалов)</th>\n",
       "    </tr>\n",
       "    <tr>\n",
       "      <th>Город Пользователя</th>\n",
       "      <th></th>\n",
       "      <th></th>\n",
       "      <th></th>\n",
       "      <th></th>\n",
       "      <th></th>\n",
       "    </tr>\n",
       "  </thead>\n",
       "  <tbody>\n",
       "    <tr>\n",
       "      <th>Абакан</th>\n",
       "      <td>1</td>\n",
       "      <td>10.0</td>\n",
       "      <td>2.0</td>\n",
       "      <td>Бутылки</td>\n",
       "      <td>1-3 мешков</td>\n",
       "    </tr>\n",
       "    <tr>\n",
       "      <th>Армавир</th>\n",
       "      <td>4</td>\n",
       "      <td>10.0</td>\n",
       "      <td>31.0</td>\n",
       "      <td>Бутылки</td>\n",
       "      <td>27-35 мешков</td>\n",
       "    </tr>\n",
       "    <tr>\n",
       "      <th>Без города</th>\n",
       "      <td>2</td>\n",
       "      <td>10.0</td>\n",
       "      <td>22.5</td>\n",
       "      <td>Пакеты</td>\n",
       "      <td>21-24 мешков</td>\n",
       "    </tr>\n",
       "    <tr>\n",
       "      <th>Братск</th>\n",
       "      <td>1</td>\n",
       "      <td>10.0</td>\n",
       "      <td>2.0</td>\n",
       "      <td>Пакеты</td>\n",
       "      <td>1-3 мешков</td>\n",
       "    </tr>\n",
       "    <tr>\n",
       "      <th>Владивосток</th>\n",
       "      <td>2</td>\n",
       "      <td>10.0</td>\n",
       "      <td>19.0</td>\n",
       "      <td>Бутылки</td>\n",
       "      <td>18-20 мешков</td>\n",
       "    </tr>\n",
       "    <tr>\n",
       "      <th>Вологда</th>\n",
       "      <td>1</td>\n",
       "      <td>10.0</td>\n",
       "      <td>2.0</td>\n",
       "      <td>Коробки</td>\n",
       "      <td>1-3 мешков</td>\n",
       "    </tr>\n",
       "    <tr>\n",
       "      <th>Екатеринбург</th>\n",
       "      <td>1</td>\n",
       "      <td>10.0</td>\n",
       "      <td>2.0</td>\n",
       "      <td>Окурки</td>\n",
       "      <td>1-3 мешков</td>\n",
       "    </tr>\n",
       "    <tr>\n",
       "      <th>Ижевск</th>\n",
       "      <td>1</td>\n",
       "      <td>10.0</td>\n",
       "      <td>2.0</td>\n",
       "      <td>Пакеты</td>\n",
       "      <td>1-3 мешков</td>\n",
       "    </tr>\n",
       "    <tr>\n",
       "      <th>Иркутск</th>\n",
       "      <td>1</td>\n",
       "      <td>10.0</td>\n",
       "      <td>2.0</td>\n",
       "      <td>Бутылки</td>\n",
       "      <td>1-3 мешков</td>\n",
       "    </tr>\n",
       "    <tr>\n",
       "      <th>Казань</th>\n",
       "      <td>1</td>\n",
       "      <td>8.0</td>\n",
       "      <td>2.0</td>\n",
       "      <td>Бутылки</td>\n",
       "      <td>1-3 мешков</td>\n",
       "    </tr>\n",
       "    <tr>\n",
       "      <th>Красноярск</th>\n",
       "      <td>2</td>\n",
       "      <td>10.0</td>\n",
       "      <td>34.0</td>\n",
       "      <td>Бутылки</td>\n",
       "      <td>34+ мешков</td>\n",
       "    </tr>\n",
       "    <tr>\n",
       "      <th>Липецк</th>\n",
       "      <td>2</td>\n",
       "      <td>9.0</td>\n",
       "      <td>4.0</td>\n",
       "      <td>Бутылки</td>\n",
       "      <td>2-6 мешков</td>\n",
       "    </tr>\n",
       "    <tr>\n",
       "      <th>Махачкала</th>\n",
       "      <td>1</td>\n",
       "      <td>10.0</td>\n",
       "      <td>15.0</td>\n",
       "      <td>Пакеты</td>\n",
       "      <td>13-17 мешков</td>\n",
       "    </tr>\n",
       "    <tr>\n",
       "      <th>Москва</th>\n",
       "      <td>2</td>\n",
       "      <td>10.0</td>\n",
       "      <td>12.0</td>\n",
       "      <td>Окурки</td>\n",
       "      <td>9-15 мешков</td>\n",
       "    </tr>\n",
       "    <tr>\n",
       "      <th>Нижний Новгород</th>\n",
       "      <td>1</td>\n",
       "      <td>10.0</td>\n",
       "      <td>10.0</td>\n",
       "      <td>Бутылки</td>\n",
       "      <td>8-12 мешков</td>\n",
       "    </tr>\n",
       "    <tr>\n",
       "      <th>Новосибирск</th>\n",
       "      <td>1</td>\n",
       "      <td>10.0</td>\n",
       "      <td>10.0</td>\n",
       "      <td>Пакеты</td>\n",
       "      <td>8-12 мешков</td>\n",
       "    </tr>\n",
       "    <tr>\n",
       "      <th>Оренбург</th>\n",
       "      <td>1</td>\n",
       "      <td>10.0</td>\n",
       "      <td>2.0</td>\n",
       "      <td>Пакеты</td>\n",
       "      <td>1-3 мешков</td>\n",
       "    </tr>\n",
       "    <tr>\n",
       "      <th>Пермь</th>\n",
       "      <td>1</td>\n",
       "      <td>10.0</td>\n",
       "      <td>2.0</td>\n",
       "      <td>Бутылки</td>\n",
       "      <td>1-3 мешков</td>\n",
       "    </tr>\n",
       "    <tr>\n",
       "      <th>Подольск</th>\n",
       "      <td>1</td>\n",
       "      <td>10.0</td>\n",
       "      <td>5.5</td>\n",
       "      <td>Окурки</td>\n",
       "      <td>4-7 мешков</td>\n",
       "    </tr>\n",
       "    <tr>\n",
       "      <th>Пушкино</th>\n",
       "      <td>1</td>\n",
       "      <td>10.0</td>\n",
       "      <td>2.0</td>\n",
       "      <td>Бутылки</td>\n",
       "      <td>1-3 мешков</td>\n",
       "    </tr>\n",
       "    <tr>\n",
       "      <th>Пятигорск</th>\n",
       "      <td>1</td>\n",
       "      <td>10.0</td>\n",
       "      <td>17.0</td>\n",
       "      <td>Бутылки</td>\n",
       "      <td>17+ мешков</td>\n",
       "    </tr>\n",
       "    <tr>\n",
       "      <th>Раменское</th>\n",
       "      <td>1</td>\n",
       "      <td>10.0</td>\n",
       "      <td>5.5</td>\n",
       "      <td>Бутылки</td>\n",
       "      <td>4-7 мешков</td>\n",
       "    </tr>\n",
       "    <tr>\n",
       "      <th>Санкт-Петербург</th>\n",
       "      <td>2</td>\n",
       "      <td>8.5</td>\n",
       "      <td>4.0</td>\n",
       "      <td>Окурки</td>\n",
       "      <td>2-6 мешков</td>\n",
       "    </tr>\n",
       "    <tr>\n",
       "      <th>Снежинск</th>\n",
       "      <td>1</td>\n",
       "      <td>8.0</td>\n",
       "      <td>2.0</td>\n",
       "      <td>Пакеты</td>\n",
       "      <td>1-3 мешков</td>\n",
       "    </tr>\n",
       "    <tr>\n",
       "      <th>Ставрополь</th>\n",
       "      <td>1</td>\n",
       "      <td>10.0</td>\n",
       "      <td>10.0</td>\n",
       "      <td>Бутылки</td>\n",
       "      <td>8-12 мешков</td>\n",
       "    </tr>\n",
       "    <tr>\n",
       "      <th>Тверь</th>\n",
       "      <td>1</td>\n",
       "      <td>10.0</td>\n",
       "      <td>2.0</td>\n",
       "      <td>Бутылки</td>\n",
       "      <td>1-3 мешков</td>\n",
       "    </tr>\n",
       "    <tr>\n",
       "      <th>Тольятти</th>\n",
       "      <td>1</td>\n",
       "      <td>10.0</td>\n",
       "      <td>17.0</td>\n",
       "      <td>Банки</td>\n",
       "      <td>17+ мешков</td>\n",
       "    </tr>\n",
       "    <tr>\n",
       "      <th>Томск</th>\n",
       "      <td>2</td>\n",
       "      <td>10.0</td>\n",
       "      <td>22.5</td>\n",
       "      <td>Окурки</td>\n",
       "      <td>21-24 мешков</td>\n",
       "    </tr>\n",
       "    <tr>\n",
       "      <th>Тюмень</th>\n",
       "      <td>2</td>\n",
       "      <td>10.0</td>\n",
       "      <td>12.0</td>\n",
       "      <td>Бутылки</td>\n",
       "      <td>9-15 мешков</td>\n",
       "    </tr>\n",
       "    <tr>\n",
       "      <th>Чебоксары</th>\n",
       "      <td>1</td>\n",
       "      <td>10.0</td>\n",
       "      <td>17.0</td>\n",
       "      <td>Окурки</td>\n",
       "      <td>17+ мешков</td>\n",
       "    </tr>\n",
       "    <tr>\n",
       "      <th>Челябинск</th>\n",
       "      <td>1</td>\n",
       "      <td>10.0</td>\n",
       "      <td>2.0</td>\n",
       "      <td>Бутылки</td>\n",
       "      <td>1-3 мешков</td>\n",
       "    </tr>\n",
       "    <tr>\n",
       "      <th>Южно-Сахалинск</th>\n",
       "      <td>1</td>\n",
       "      <td>10.0</td>\n",
       "      <td>10.0</td>\n",
       "      <td>Бутылки</td>\n",
       "      <td>8-12 мешков</td>\n",
       "    </tr>\n",
       "    <tr>\n",
       "      <th>Якутск</th>\n",
       "      <td>3</td>\n",
       "      <td>9.3</td>\n",
       "      <td>9.5</td>\n",
       "      <td>Окурки</td>\n",
       "      <td>6-13 мешков</td>\n",
       "    </tr>\n",
       "  </tbody>\n",
       "</table>\n",
       "</div>"
      ],
      "text/plain": [
       "                    Количество участников  Средний балл  \\\n",
       "Город Пользователя                                        \n",
       "Абакан                                  1          10.0   \n",
       "Армавир                                 4          10.0   \n",
       "Без города                              2          10.0   \n",
       "Братск                                  1          10.0   \n",
       "Владивосток                             2          10.0   \n",
       "Вологда                                 1          10.0   \n",
       "Екатеринбург                            1          10.0   \n",
       "Ижевск                                  1          10.0   \n",
       "Иркутск                                 1          10.0   \n",
       "Казань                                  1           8.0   \n",
       "Красноярск                              2          10.0   \n",
       "Липецк                                  2           9.0   \n",
       "Махачкала                               1          10.0   \n",
       "Москва                                  2          10.0   \n",
       "Нижний Новгород                         1          10.0   \n",
       "Новосибирск                             1          10.0   \n",
       "Оренбург                                1          10.0   \n",
       "Пермь                                   1          10.0   \n",
       "Подольск                                1          10.0   \n",
       "Пушкино                                 1          10.0   \n",
       "Пятигорск                               1          10.0   \n",
       "Раменское                               1          10.0   \n",
       "Санкт-Петербург                         2           8.5   \n",
       "Снежинск                                1           8.0   \n",
       "Ставрополь                              1          10.0   \n",
       "Тверь                                   1          10.0   \n",
       "Тольятти                                1          10.0   \n",
       "Томск                                   2          10.0   \n",
       "Тюмень                                  2          10.0   \n",
       "Чебоксары                               1          10.0   \n",
       "Челябинск                               1          10.0   \n",
       "Южно-Сахалинск                          1          10.0   \n",
       "Якутск                                  3           9.3   \n",
       "\n",
       "                    Всего мешков(сумма средних) Наиболее частый мусор  \\\n",
       "Город Пользователя                                                      \n",
       "Абакан                                      2.0               Бутылки   \n",
       "Армавир                                    31.0               Бутылки   \n",
       "Без города                                 22.5                Пакеты   \n",
       "Братск                                      2.0                Пакеты   \n",
       "Владивосток                                19.0               Бутылки   \n",
       "Вологда                                     2.0               Коробки   \n",
       "Екатеринбург                                2.0                Окурки   \n",
       "Ижевск                                      2.0                Пакеты   \n",
       "Иркутск                                     2.0               Бутылки   \n",
       "Казань                                      2.0               Бутылки   \n",
       "Красноярск                                 34.0               Бутылки   \n",
       "Липецк                                      4.0               Бутылки   \n",
       "Махачкала                                  15.0                Пакеты   \n",
       "Москва                                     12.0                Окурки   \n",
       "Нижний Новгород                            10.0               Бутылки   \n",
       "Новосибирск                                10.0                Пакеты   \n",
       "Оренбург                                    2.0                Пакеты   \n",
       "Пермь                                       2.0               Бутылки   \n",
       "Подольск                                    5.5                Окурки   \n",
       "Пушкино                                     2.0               Бутылки   \n",
       "Пятигорск                                  17.0               Бутылки   \n",
       "Раменское                                   5.5               Бутылки   \n",
       "Санкт-Петербург                             4.0                Окурки   \n",
       "Снежинск                                    2.0                Пакеты   \n",
       "Ставрополь                                 10.0               Бутылки   \n",
       "Тверь                                       2.0               Бутылки   \n",
       "Тольятти                                   17.0                 Банки   \n",
       "Томск                                      22.5                Окурки   \n",
       "Тюмень                                     12.0               Бутылки   \n",
       "Чебоксары                                  17.0                Окурки   \n",
       "Челябинск                                   2.0               Бутылки   \n",
       "Южно-Сахалинск                             10.0               Бутылки   \n",
       "Якутск                                      9.5                Окурки   \n",
       "\n",
       "                   Всего мешков(сумма интервалов)  \n",
       "Город Пользователя                                 \n",
       "Абакан                                 1-3 мешков  \n",
       "Армавир                              27-35 мешков  \n",
       "Без города                           21-24 мешков  \n",
       "Братск                                 1-3 мешков  \n",
       "Владивосток                          18-20 мешков  \n",
       "Вологда                                1-3 мешков  \n",
       "Екатеринбург                           1-3 мешков  \n",
       "Ижевск                                 1-3 мешков  \n",
       "Иркутск                                1-3 мешков  \n",
       "Казань                                 1-3 мешков  \n",
       "Красноярск                             34+ мешков  \n",
       "Липецк                                 2-6 мешков  \n",
       "Махачкала                            13-17 мешков  \n",
       "Москва                                9-15 мешков  \n",
       "Нижний Новгород                       8-12 мешков  \n",
       "Новосибирск                           8-12 мешков  \n",
       "Оренбург                               1-3 мешков  \n",
       "Пермь                                  1-3 мешков  \n",
       "Подольск                               4-7 мешков  \n",
       "Пушкино                                1-3 мешков  \n",
       "Пятигорск                              17+ мешков  \n",
       "Раменское                              4-7 мешков  \n",
       "Санкт-Петербург                        2-6 мешков  \n",
       "Снежинск                               1-3 мешков  \n",
       "Ставрополь                            8-12 мешков  \n",
       "Тверь                                  1-3 мешков  \n",
       "Тольятти                               17+ мешков  \n",
       "Томск                                21-24 мешков  \n",
       "Тюмень                                9-15 мешков  \n",
       "Чебоксары                              17+ мешков  \n",
       "Челябинск                              1-3 мешков  \n",
       "Южно-Сахалинск                        8-12 мешков  \n",
       "Якутск                                6-13 мешков  "
      ]
     },
     "execution_count": 591,
     "metadata": {},
     "output_type": "execute_result"
    }
   ],
   "source": [
    "green_user_pivot"
   ]
  },
  {
   "cell_type": "code",
   "execution_count": 592,
   "metadata": {},
   "outputs": [],
   "source": [
    "# экспортируем датафрейм в эксель\n",
    "\n",
    "green_user_pivot.to_excel(\"green_user.xlsx\", sheet_name='Green User')"
   ]
  }
 ],
 "metadata": {
  "kernelspec": {
   "display_name": "Python 3",
   "language": "python",
   "name": "python3"
  },
  "language_info": {
   "codemirror_mode": {
    "name": "ipython",
    "version": 3
   },
   "file_extension": ".py",
   "mimetype": "text/x-python",
   "name": "python",
   "nbconvert_exporter": "python",
   "pygments_lexer": "ipython3",
   "version": "3.10.11"
  }
 },
 "nbformat": 4,
 "nbformat_minor": 2
}
